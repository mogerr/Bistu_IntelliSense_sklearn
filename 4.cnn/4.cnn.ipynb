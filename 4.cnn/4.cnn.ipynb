{
 "cells": [
  {
   "cell_type": "code",
   "execution_count": 4,
   "metadata": {},
   "outputs": [
    {
     "name": "stdout",
     "output_type": "stream",
     "text": [
      "Model: \"sequential_2\"\n",
      "_________________________________________________________________\n",
      " Layer (type)                Output Shape              Param #   \n",
      "=================================================================\n",
      " conv2d_6 (Conv2D)           (None, 26, 26, 32)        320       \n",
      "                                                                 \n",
      " max_pooling2d_4 (MaxPoolin  (None, 13, 13, 32)        0         \n",
      " g2D)                                                            \n",
      "                                                                 \n",
      " conv2d_7 (Conv2D)           (None, 11, 11, 64)        18496     \n",
      "                                                                 \n",
      " max_pooling2d_5 (MaxPoolin  (None, 5, 5, 64)          0         \n",
      " g2D)                                                            \n",
      "                                                                 \n",
      " conv2d_8 (Conv2D)           (None, 3, 3, 64)          36928     \n",
      "                                                                 \n",
      " flatten_2 (Flatten)         (None, 576)               0         \n",
      "                                                                 \n",
      " dense_4 (Dense)             (None, 64)                36928     \n",
      "                                                                 \n",
      " dense_5 (Dense)             (None, 10)                650       \n",
      "                                                                 \n",
      "=================================================================\n",
      "Total params: 93322 (364.54 KB)\n",
      "Trainable params: 93322 (364.54 KB)\n",
      "Non-trainable params: 0 (0.00 Byte)\n",
      "_________________________________________________________________\n"
     ]
    }
   ],
   "source": [
    "import tensorflow as tf\n",
    "from keras import layers, models\n",
    "from keras.datasets import mnist\n",
    "from keras.utils import to_categorical\n",
    "\n",
    "# 加载MNIST数据集并进行预处理\n",
    "# load_data():  Loads the MNIST dataset.\n",
    "# This is a dataset of 60,000 28x28 grayscale images of the 10 digits, along with a test set of 10,000 images. \n",
    "# More info can be found at the MNIST homepage.\n",
    "(train_images, train_labels), (test_images, test_labels) = mnist.load_data()\n",
    "train_images = train_images.reshape((60000, 28, 28, 1)).astype('float32') / 255\n",
    "test_images = test_images.reshape((10000, 28, 28, 1)).astype('float32') / 255\n",
    "#转换成独热码\n",
    "train_labels = to_categorical(train_labels)\n",
    "test_labels = to_categorical(test_labels)\n",
    "\n",
    "# 构建CNN模型\n",
    "model = models.Sequential()\n",
    "model.add(layers.Conv2D(32, (3, 3), activation='relu', input_shape=(28, 28, 1)))\n",
    "model.add(layers.MaxPooling2D((2, 2)))\n",
    "model.add(layers.Conv2D(64, (3, 3), activation='relu'))\n",
    "model.add(layers.MaxPooling2D((2, 2)))\n",
    "model.add(layers.Conv2D(64, (3, 3), activation='relu'))\n",
    "model.add(layers.Flatten())\n",
    "model.add(layers.Dense(64, activation='relu'))\n",
    "model.add(layers.Dense(10, activation='softmax'))\n",
    "\n",
    "# 展示CNN模型\n",
    "model.summary()"
   ]
  },
  {
   "cell_type": "code",
   "execution_count": 5,
   "metadata": {},
   "outputs": [
    {
     "name": "stdout",
     "output_type": "stream",
     "text": [
      "Epoch 1/5\n",
      "750/750 [==============================] - 13s 16ms/step - loss: 0.2081 - accuracy: 0.9360 - val_loss: 0.0734 - val_accuracy: 0.9775\n",
      "Epoch 2/5\n",
      "750/750 [==============================] - 12s 16ms/step - loss: 0.0562 - accuracy: 0.9820 - val_loss: 0.0594 - val_accuracy: 0.9830\n",
      "Epoch 3/5\n",
      "750/750 [==============================] - 13s 17ms/step - loss: 0.0400 - accuracy: 0.9873 - val_loss: 0.0446 - val_accuracy: 0.9873\n",
      "Epoch 4/5\n",
      "750/750 [==============================] - 12s 16ms/step - loss: 0.0302 - accuracy: 0.9903 - val_loss: 0.0442 - val_accuracy: 0.9869\n",
      "Epoch 5/5\n",
      "750/750 [==============================] - 12s 16ms/step - loss: 0.0247 - accuracy: 0.9918 - val_loss: 0.0359 - val_accuracy: 0.9902\n",
      "313/313 [==============================] - 1s 3ms/step - loss: 0.0293 - accuracy: 0.9902\n",
      "Test loss:       0.02930004894733429\n",
      "Test accuracy:   0.9901999831199646\n"
     ]
    }
   ],
   "source": [
    "\n",
    "# 编译模型\n",
    "# 超参数的选择\n",
    "# 学习率( Learning_Rate )：学习率控制每次参数更新的步长。使用的是 adam 优化器\n",
    "# 损失函数( Loss_Function ) ：损失函数衡量模型在训练过程中的性能。损失函数使用交叉熵损失函数( categorical_crossentropy )\n",
    "# 度量指标( metrics )：用于度量模型在分类任务中的性能。度量指标使用 \"accuracy\"（准确率），\n",
    "# # # 也可以使用精确度（Precision）、召回率（Recall）、F1分数、均方误差（mean squared error，MSE）等\n",
    "model.compile(optimizer='adam',\n",
    "              loss='categorical_crossentropy',\n",
    "              metrics=['accuracy'])\n",
    "\n",
    "# 训练模型\n",
    "model.fit(train_images, train_labels, epochs=5, batch_size=64, validation_split=0.2)\n",
    "\n",
    "# 评估模型\n",
    "test_loss, test_acc = model.evaluate(test_images, test_labels)\n",
    "print(\"Test loss:      \", test_loss)\n",
    "print(\"Test accuracy:  \", test_acc)\n",
    "\n"
   ]
  },
  {
   "cell_type": "code",
   "execution_count": 10,
   "metadata": {},
   "outputs": [
    {
     "name": "stdout",
     "output_type": "stream",
     "text": [
      "313/313 [==============================] - 1s 2ms/step\n",
      "313/313 [==============================] - 1s 2ms/step - loss: 0.0293 - accuracy: 0.9902\n",
      "\n",
      "\n",
      "Test accuracy:   0.9901999831199646\n",
      "Precision:       0.9902455870131657\n",
      "Recall:          0.9902\n"
     ]
    }
   ],
   "source": [
    "\n",
    "\n",
    "import numpy as np\n",
    "from sklearn.metrics import precision_score, recall_score\n",
    "\n",
    "# ...\n",
    "\n",
    "# 在评估模型之前添加以下代码：\n",
    "y_pred_prob = model.predict(test_images)\n",
    "y_pred = np.argmax(y_pred_prob, axis=1)\n",
    "\n",
    "# 评估模型\n",
    "test_loss, test_acc = model.evaluate(test_images, test_labels)\n",
    "print(\"\\n\")\n",
    "# print(\"Test loss:      \", test_loss)\n",
    "# print(\"Test accuracy:  \", test_acc)\n",
    "\n",
    "# 准确度\n",
    "print(f'Test accuracy:   {test_acc}')\n",
    "\n",
    "# 精确度\n",
    "precision = precision_score(np.argmax(test_labels, axis=1), y_pred, average='weighted')\n",
    "print(f'Precision:       {precision}')\n",
    "\n",
    "# 召回率\n",
    "recall = recall_score(np.argmax(test_labels, axis=1), y_pred, average='weighted')\n",
    "print(f'Recall:          {recall}')\n",
    "\n"
   ]
  }
 ],
 "metadata": {
  "kernelspec": {
   "display_name": "Python 3",
   "language": "python",
   "name": "python3"
  },
  "language_info": {
   "codemirror_mode": {
    "name": "ipython",
    "version": 3
   },
   "file_extension": ".py",
   "mimetype": "text/x-python",
   "name": "python",
   "nbconvert_exporter": "python",
   "pygments_lexer": "ipython3",
   "version": "3.11.7"
  }
 },
 "nbformat": 4,
 "nbformat_minor": 2
}
